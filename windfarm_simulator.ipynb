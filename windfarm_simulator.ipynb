{
 "cells": [
  {
   "cell_type": "code",
   "execution_count": 1,
   "metadata": {
    "id": "Jpuz8jqBluaT"
   },
   "outputs": [],
   "source": [
    "import numpy as np\n",
    "import matplotlib.pyplot as plt"
   ]
  },
  {
   "cell_type": "code",
   "execution_count": 2,
   "metadata": {
    "id": "rxGMpVTtYuvn"
   },
   "outputs": [],
   "source": [
    "class Windfarm(object):\n",
    "  def __init__(self, placement, L_x, L_y, R, alpha, C_t):\n",
    "    self.placement = placement\n",
    "    self.L_x = L_x\n",
    "    self.L_y = L_y\n",
    "    self.R = R\n",
    "    self.alpha = alpha\n",
    "\n",
    "    self.N, self.M = placement.shape\n",
    "    self.d = R/alpha\n",
    "    self.a = 0.5 - 0.5 * np.sqrt(1 - C_t)\n",
    "    self._initialize_positions()\n",
    "\n",
    "  def _initialize_positions(self):\n",
    "    x = np.linspace(0, (self.M - 1) * self.L_x, self.M)\n",
    "    y = np.linspace(0, (self.N - 1) * self.L_y, self.N)\n",
    "    X, Y = np.meshgrid(x, y)\n",
    "\n",
    "    self.P_1 = np.zeros((self.N, self.M, 2), dtype = float)\n",
    "    self.P_1[:, :, 0] = X\n",
    "    self.P_1[:, :, 1] = Y\n",
    "\n",
    "  def show(self):\n",
    "    x, y = [], []\n",
    "    for i in range(self.N):\n",
    "        for j in range(self.M):\n",
    "            if self.placement[i,j] == True:\n",
    "                y += [5.0/2 * (2 * i + 1)]\n",
    "                x += [5.0/2 * (2 * j + 1)]\n",
    "    \n",
    "    plt.figure(figsize = (0.7 * self.M, 0.7 * self.N))\n",
    "    plt.gca().invert_yaxis()\n",
    "    plt.scatter(x, y, zorder = 2, marker = 's', s = 300)\n",
    "    plt.xticks(range(0, 5 * (self.M + 1), 5), [])\n",
    "    plt.yticks(range(0, 5 * (self.N + 1), 5), [])\n",
    "    plt.ylim([0, 5 * self.N])\n",
    "    plt.xlim([0, 5 * self.M])\n",
    "    plt.grid(True)\n",
    "    plt.tick_params(axis = 'both', color = (0,0,0,0))\n",
    "\n",
    "  def produced_energy(self, u):\n",
    "    u_0 = np.linalg.norm(u)\n",
    "    v = u/u_0\n",
    "    w = np.sqrt(self.alpha**2 + 1)\n",
    "    A = np.sqrt((1 - self.a) / (1 - 2 * self.a))\n",
    "    R_a = (self.R * A)\n",
    "\n",
    "    L = np.zeros((self.N, self.M), dtype = float)\n",
    "\n",
    "    for i in range(self.N):\n",
    "      for j in range(self.M):\n",
    "        if self.placement[i, j] == True:\n",
    "          P_0 = self.P_1[i, j, :] - self.d * v\n",
    "          P = self.P_1 - P_0\n",
    "          abs_P = np.linalg.norm(P, axis = 2)\n",
    "          prod_v_P = np.dot(P, v)\n",
    "        \n",
    "          x = prod_v_P - self.d\n",
    "\n",
    "          r = (1 - (2 * self.a) / (1 + self.alpha * x / R_a)**2)\n",
    "\n",
    "          influenced = np.full((N, M), True)\n",
    "          influenced &= w * prod_v_P >= abs_P \n",
    "          influenced &= x > 0\n",
    "          influenced &= self.placement\n",
    "          influenced[i, j] = False\n",
    "          \n",
    "\n",
    "          L += np.where(influenced, (1 - r)**2, 0)\n",
    "\n",
    "    # U = np.where(L != 0.0, u_0 * (1 - np.sqrt(L)), 0) + np.where(np.logical_and(L == 0.0, self.placement), u_0, 0)\n",
    "    U = np.where(L != 0.0, u_0 * (1 - np.sqrt(L)), u_0) - np.where(np.logical_not(self.placement), u_0, 0)\n",
    "\n",
    "    return 0.3 * np.sum(U ** 3)\n"
   ]
  },
  {
   "cell_type": "code",
   "execution_count": 3,
   "metadata": {
    "id": "n1b4P2Lml5uU"
   },
   "outputs": [],
   "source": [
    "N, M = 10, 10\n",
    "placement = np.ones((N, M)) < 0.5\n",
    "placement[0, :] = True\n",
    "placement[5, :] = True\n",
    "placement[-1, :] = True\n",
    "R = 40\n",
    "alpha = 0.5/np.log(60/0.3)\n",
    "C_t = 0.88\n",
    "farm = Windfarm(placement, 10 * R, 10 * R, R, alpha, C_t)"
   ]
  },
  {
   "cell_type": "code",
   "execution_count": 4,
   "metadata": {
    "colab": {
     "base_uri": "https://localhost:8080/",
     "height": 415
    },
    "id": "lNOqbnsql8Pw",
    "outputId": "6d0441b6-ec33-48dd-d2dc-7d6682a5f1fc"
   },
   "outputs": [
    {
     "data": {
      "image/png": "[encoded data removed]",
      "text/plain": [
       "<Figure size 504x504 with 1 Axes>"
      ]
     },
     "metadata": {
      "needs_background": "light"
     },
     "output_type": "display_data"
    }
   ],
   "source": [
    "farm.show()"
   ]
  },
  {
   "cell_type": "code",
   "execution_count": 5,
   "metadata": {
    "colab": {
     "base_uri": "https://localhost:8080/"
    },
    "id": "78iVKgJtl-ef",
    "outputId": "7c8b51ad-1b75-4b0a-9976-3d00674ce85e"
   },
   "outputs": [
    {
     "data": {
      "text/plain": [
       "14311.7423809819"
      ]
     },
     "execution_count": 5,
     "metadata": {},
     "output_type": "execute_result"
    }
   ],
   "source": [
    "farm.produced_energy(12 * np.array([0, 1.0]))"
   ]
  },
  {
   "cell_type": "code",
   "execution_count": null,
   "metadata": {
    "id": "bneHG8ydmDmk"
   },
   "outputs": [],
   "source": []
  }
 ],
 "metadata": {
  "colab": {
   "name": "windfarm_simulator_2.ipynb",
   "provenance": []
  },
  "kernelspec": {
   "display_name": "Python 3 (ipykernel)",
   "language": "python",
   "name": "python3"
  },
  "language_info": {
   "codemirror_mode": {
    "name": "ipython",
    "version": 3
   },
   "file_extension": ".py",
   "mimetype": "text/x-python",
   "name": "python",
   "nbconvert_exporter": "python",
   "pygments_lexer": "ipython3",
   "version": "3.9.7"
  }
 },
 "nbformat": 4,
 "nbformat_minor": 1
}
