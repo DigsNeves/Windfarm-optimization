{
 "cells": [
  {
   "cell_type": "code",
   "execution_count": 1,
   "metadata": {
    "id": "Jpuz8jqBluaT"
   },
   "outputs": [],
   "source": [
    "import numpy as np\n",
    "import matplotlib.pyplot as plt"
   ]
  },
  {
   "cell_type": "code",
   "execution_count": 37,
   "metadata": {
    "id": "rxGMpVTtYuvn"
   },
   "outputs": [],
   "source": [
    "class Windfarm(object):\n",
    "  def __init__(self, placement, horizontal_separation, vertical_separation, rotor_radius, alpha, C_t):\n",
    "    self.placement = placement\n",
    "    self.horizontal_separation = horizontal_separation\n",
    "    self.vertical_separation = vertical_separation\n",
    "    self.rotor_radius = rotor_radius\n",
    "    self.alpha = alpha\n",
    "\n",
    "    self.number_of_rows, self.number_of_columns = placement.shape\n",
    "    self.number_of_turbines = np.sum(placement)\n",
    "    self.d = rotor_radius/alpha\n",
    "    self.a = 0.5 - 0.5 * np.sqrt(1 - C_t)\n",
    "    \n",
    "    self._initialize_positions()\n",
    "\n",
    "  def _initialize_positions(self):\n",
    "    self.turbine_position = []\n",
    "    \n",
    "    for row in range(self.number_of_rows):\n",
    "        for column in range(self.number_of_columns):\n",
    "            if self.placement[row, column]:\n",
    "                \n",
    "                x = self.horizontal_separation * (1/2 + column)\n",
    "                y = self.vertical_separation * (1/2 + row)\n",
    "                self.turbine_position += [[x, y]] \n",
    "    \n",
    "    self.turbine_position = np.array(self.turbine_position)\n",
    "\n",
    "  def show(self):\n",
    "    x = self.turbine_position[:, 0]/self.horizontal_separation\n",
    "    y = self.turbine_position[:, 1]/self.vertical_separation\n",
    "    \n",
    "    plt.figure(figsize = (0.7 * self.number_of_columns, 0.7 * self.number_of_rows))\n",
    "    plt.scatter(x, y, marker = 's', s = 300)\n",
    "    plt.xticks(range(0, (self.number_of_columns + 1)), [])\n",
    "    plt.yticks(range(0, (self.number_of_rows + 1)), [])\n",
    "    plt.ylim([0, self.number_of_rows])\n",
    "    plt.xlim([0, self.number_of_columns])\n",
    "    plt.grid(True)\n",
    "    plt.tick_params(axis = 'both', color = (0,0,0,0))\n",
    "    plt.gca().invert_yaxis()\n",
    "\n",
    "  def produced_energy(self, u):\n",
    "    u_0 = np.linalg.norm(u)\n",
    "    v = u/u_0\n",
    "    c_1 = np.sqrt(self.alpha**2 + 1)\n",
    "    c_2 = np.sqrt((1 - self.a) / (1 - 2 * self.a))\n",
    "    R = (self.rotor_radius * c_2)\n",
    "\n",
    "    L = np.zeros(self.number_of_turbines, dtype = float)\n",
    "\n",
    "    for index, position in enumerate(self.turbine_position):\n",
    "        P_0 = position - self.d * v\n",
    "        P = self.turbine_position - P_0\n",
    "        abs_P = np.linalg.norm(P, axis = 1)\n",
    "        prod_v_P = np.dot(P, v)\n",
    "        \n",
    "        x = prod_v_P - self.d\n",
    "\n",
    "        r = (1 - (2 * self.a) / (1 + self.alpha * x / R)**2)\n",
    "\n",
    "        influenced = np.full(self.number_of_turbines, True)\n",
    "        influenced &= c_1 * prod_v_P >= abs_P \n",
    "        influenced &= x > 0\n",
    "        influenced[index] = False\n",
    "          \n",
    "\n",
    "        L += np.where(influenced, (1 - r)**2, 0)\n",
    "\n",
    "    U = np.where(L != 0.0, u_0 * (1 - np.sqrt(L)), u_0)\n",
    "    \n",
    "    return 0.3 * np.sum(U ** 3)\n"
   ]
  },
  {
   "cell_type": "code",
   "execution_count": 64,
   "metadata": {
    "id": "n1b4P2Lml5uU"
   },
   "outputs": [],
   "source": [
    "N, M = 10, 10\n",
    "placement = np.ones((N, M)) < 0.5\n",
    "placement[0, :] = True\n",
    "placement[5, :] = True\n",
    "placement[-1, :] = True\n",
    "R = 40\n",
    "alpha = 0.5/np.log(60/0.3)\n",
    "C_t = 0.88\n",
    "farm = Windfarm(placement, 10 * R, 10 * R, R, alpha, C_t)"
   ]
  },
  {
   "cell_type": "code",
   "execution_count": 65,
   "metadata": {
    "colab": {
     "base_uri": "https://localhost:8080/",
     "height": 415
    },
    "id": "lNOqbnsql8Pw",
    "outputId": "6d0441b6-ec33-48dd-d2dc-7d6682a5f1fc"
   },
   "outputs": [
    {
     "data": {
      "image/png": "[encoded data removed]",
      "text/plain": [
       "<Figure size 504x504 with 1 Axes>"
      ]
     },
     "metadata": {
      "needs_background": "light"
     },
     "output_type": "display_data"
    }
   ],
   "source": [
    "farm.show()"
   ]
  },
  {
   "cell_type": "code",
   "execution_count": 67,
   "metadata": {
    "colab": {
     "base_uri": "https://localhost:8080/"
    },
    "id": "78iVKgJtl-ef",
    "outputId": "7c8b51ad-1b75-4b0a-9976-3d00674ce85e"
   },
   "outputs": [
    {
     "data": {
      "text/plain": [
       "14311.742380981897"
      ]
     },
     "execution_count": 67,
     "metadata": {},
     "output_type": "execute_result"
    }
   ],
   "source": [
    "farm.produced_energy(12 * np.array([0, 1.0]))"
   ]
  },
  {
   "cell_type": "code",
   "execution_count": null,
   "metadata": {},
   "outputs": [],
   "source": []
  }
 ],
 "metadata": {
  "colab": {
   "name": "windfarm_simulator_2.ipynb",
   "provenance": []
  },
  "kernelspec": {
   "display_name": "Python 3 (ipykernel)",
   "language": "python",
   "name": "python3"
  },
  "language_info": {
   "codemirror_mode": {
    "name": "ipython",
    "version": 3
   },
   "file_extension": ".py",
   "mimetype": "text/x-python",
   "name": "python",
   "nbconvert_exporter": "python",
   "pygments_lexer": "ipython3",
   "version": "3.9.7"
  }
 },
 "nbformat": 4,
 "nbformat_minor": 1
}
