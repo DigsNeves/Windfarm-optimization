{
  "cells": [
    {
      "cell_type": "code",
      "execution_count": 4,
      "metadata": {
        "id": "Jpuz8jqBluaT"
      },
      "outputs": [],
      "source": [
        "import numpy as np\n",
        "from windfarm import Windfarm"
      ]
    },
    {
      "cell_type": "markdown",
      "source": [
        "Reproduction of figure 7 and table 2 in\n",
        "\n",
        "A. Emami and P. Noghreh, “New approach on optimization in placement of wind turbines within wind farm by genetic algorithms,” Renew. Energy, vol. 35, no. 7, pp. 1559–1564, 2010, doi: 10.1016/j.renene.2009.11.026."
      ],
      "metadata": {
        "id": "EoFRNpWIRATq"
      }
    },
    {
      "cell_type": "code",
      "source": [
        "N, M = 10, 10\n",
        "\n",
        "R = 40\n",
        "alpha = 0.5/np.log(60/0.3)\n",
        "C_t = 0.88"
      ],
      "metadata": {
        "id": "xrmJAMUmRXMM"
      },
      "execution_count": 5,
      "outputs": []
    },
    {
      "cell_type": "code",
      "execution_count": 6,
      "metadata": {
        "id": "-goGLGTW7EWv"
      },
      "outputs": [],
      "source": [
        "placement = np.full((N, M), False)\n",
        "placement[0, :] = True\n",
        "placement[-1, :] = True\n",
        "farm = Windfarm(placement, 10 * R, 10 * R, R, alpha, C_t)"
      ]
    },
    {
      "cell_type": "code",
      "execution_count": 8,
      "metadata": {
        "id": "EoB3YI077EWx",
        "outputId": "c6507f39-1dd5-4d4c-ccaa-2ea3672199fe",
        "colab": {
          "base_uri": "https://localhost:8080/",
          "height": 432
        }
      },
      "outputs": [
        {
          "output_type": "stream",
          "name": "stdout",
          "text": [
            "Total power: 10168.55\n"
          ]
        },
        {
          "output_type": "display_data",
          "data": {
            "text/plain": [
              "<Figure size 504x504 with 1 Axes>"
            ],
            "image/png": "[encoded data removed]"
          },
          "metadata": {
            "needs_background": "light"
          }
        }
      ],
      "source": [
        "farm.show()\n",
        "P = farm.produced_energy(np.array([0, 12.0]))\n",
        "print(\"Total power: %.2f\" % P)"
      ]
    },
    {
      "cell_type": "code",
      "execution_count": 10,
      "metadata": {
        "id": "n1b4P2Lml5uU"
      },
      "outputs": [],
      "source": [
        "placement = np.full((N, M), False)\n",
        "placement[0, :] = True\n",
        "placement[5, :] = True\n",
        "placement[-1, :] = True\n",
        "farm.set_placement(placement)"
      ]
    },
    {
      "cell_type": "code",
      "execution_count": 11,
      "metadata": {
        "colab": {
          "base_uri": "https://localhost:8080/",
          "height": 432
        },
        "id": "lNOqbnsql8Pw",
        "outputId": "2a1e8d42-eb22-401e-802d-f6de0a4d5bc6"
      },
      "outputs": [
        {
          "output_type": "stream",
          "name": "stdout",
          "text": [
            "Total power: 14311.74\n"
          ]
        },
        {
          "output_type": "display_data",
          "data": {
            "text/plain": [
              "<Figure size 504x504 with 1 Axes>"
            ],
            "image/png": "[encoded data removed]"
          },
          "metadata": {
            "needs_background": "light"
          }
        }
      ],
      "source": [
        "farm.show()\n",
        "P = farm.produced_energy(np.array([0, 12.0]))\n",
        "print(\"Total power: %.2f\" % P)"
      ]
    },
    {
      "cell_type": "code",
      "execution_count": 12,
      "metadata": {
        "id": "KmUWIBb77EWo"
      },
      "outputs": [],
      "source": [
        "placement = np.full((N, M), False)\n",
        "placement[0, -1] = True\n",
        "placement[3, 3] = True\n",
        "placement[5, [2, 4, 5]] = True\n",
        "placement[-2, [0, 1, 6, 7]] = True\n",
        "placement[-1, 8] = True\n",
        "farm.set_placement(placement)"
      ]
    },
    {
      "cell_type": "code",
      "execution_count": 13,
      "metadata": {
        "id": "6L6Uzpj-7EWr",
        "outputId": "2cff4459-94c6-4885-97d9-770658c229ed",
        "colab": {
          "base_uri": "https://localhost:8080/",
          "height": 432
        }
      },
      "outputs": [
        {
          "output_type": "stream",
          "name": "stdout",
          "text": [
            "Total power: 5184.00\n"
          ]
        },
        {
          "output_type": "display_data",
          "data": {
            "text/plain": [
              "<Figure size 504x504 with 1 Axes>"
            ],
            "image/png": "[encoded data removed]"
          },
          "metadata": {
            "needs_background": "light"
          }
        }
      ],
      "source": [
        "farm.show()\n",
        "P = farm.produced_energy(np.array([0, 12.0]))\n",
        "print(\"Total power: %.2f\" % P)"
      ]
    }
  ],
  "metadata": {
    "colab": {
      "provenance": []
    },
    "kernelspec": {
      "display_name": "Python 3 (ipykernel)",
      "language": "python",
      "name": "python3"
    },
    "language_info": {
      "codemirror_mode": {
        "name": "ipython",
        "version": 3
      },
      "file_extension": ".py",
      "mimetype": "text/x-python",
      "name": "python",
      "nbconvert_exporter": "python",
      "pygments_lexer": "ipython3",
      "version": "3.9.7"
    }
  },
  "nbformat": 4,
  "nbformat_minor": 0
}